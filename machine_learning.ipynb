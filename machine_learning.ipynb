{
  "cells": [
    {
      "cell_type": "markdown",
      "id": "68d1cc3e",
      "metadata": {
        "id": "68d1cc3e"
      },
      "source": [
        " Question 1:  Explain the differences between AI, ML, Deep Learning (DL), and Data\n",
        "Science (DS).\n"
      ]
    },
    {
      "cell_type": "markdown",
      "id": "217d6301",
      "metadata": {
        "id": "217d6301"
      },
      "source": [
        "Answer:\n",
        "\n",
        " **Artificial Intelligence (AI)**\n",
        "AI refers to the simulation of human intelligence in machines that are programmed to think, reason, and make decisions like humans. It includes tasks such as problem-solving, language understanding, and perception.\n",
        "\n",
        " **Machine Learning (ML)**\n",
        "ML is a subset of AI that allows machines to learn patterns from data and improve over time without being explicitly programmed. It focuses on training models using algorithms.\n",
        "\n",
        " **Deep Learning (DL)**\n",
        "DL is a subset of ML that uses neural networks with many layers to learn complex patterns. It's widely used in image recognition, speech processing, etc.\n",
        "\n",
        " **Data Science (DS)**\n",
        "Data Science is an interdisciplinary field that combines statistical methods, programming, domain expertise, and ML techniques to extract actionable insights from data."
      ]
    },
    {
      "cell_type": "markdown",
      "id": "9b908eda",
      "metadata": {
        "id": "9b908eda"
      },
      "source": [
        " Question 2: What are the types of machine learning? Describe each with one\n",
        "real-world example."
      ]
    },
    {
      "cell_type": "markdown",
      "id": "fdac4df9",
      "metadata": {
        "id": "fdac4df9"
      },
      "source": [
        "Answer:\n",
        "1. **Supervised Learning**\n",
        "The model is trained on labeled data where input-output pairs are provided.\n",
        "**Example:** Predicting house prices based on historical data.\n",
        "\n",
        " 2. **Unsupervised Learning**\n",
        "The model finds patterns or groupings in data without labels.\n",
        "**Example:** Customer segmentation for marketing strategies.\n",
        "\n",
        " 3. **Reinforcement Learning**\n",
        "The model learns by interacting with the environment and receiving rewards or penalties.\n",
        "**Example:** Self-driving cars improving driving strategy over time."
      ]
    },
    {
      "cell_type": "markdown",
      "id": "d5861a7c",
      "metadata": {
        "id": "d5861a7c"
      },
      "source": [
        " Question 3: Define overfitting, underfitting, and the bias-variance tradeoff in machine\n",
        "learning.\n"
      ]
    },
    {
      "cell_type": "markdown",
      "id": "cfcb5611",
      "metadata": {
        "id": "cfcb5611"
      },
      "source": [
        "Answer:\n",
        "- **Overfitting:** The model learns the training data too well, including noise, and performs poorly on new data.\n",
        "- **Underfitting:** The model is too simple to capture the underlying trends and performs poorly on both training and test data.\n",
        "- **Bias-Variance Tradeoff:** A balance between bias (error from assumptions) and variance (error from sensitivity to small fluctuations) is necessary for optimal performance."
      ]
    },
    {
      "cell_type": "markdown",
      "id": "06bb3455",
      "metadata": {
        "id": "06bb3455"
      },
      "source": [
        " Question 4:  What are outliers in a dataset, and list three common techniques for\n",
        "handling them.\n"
      ]
    },
    {
      "cell_type": "markdown",
      "id": "26f3984e",
      "metadata": {
        "id": "26f3984e"
      },
      "source": [
        "Answer:\n",
        "\n",
        " **Outliers:** Data points significantly deviating from the general distribution.\n",
        "\n",
        "**Common techniques for handling outliers:**\n",
        "\n",
        "1. **Removal:** Exclude outlier points after analyzing their impact.\n",
        "2. **Transformation:** Apply functions like log or square root to reduce skewness.\n",
        "3. **Imputation:** Replace outliers using median or mean values."
      ]
    },
    {
      "cell_type": "markdown",
      "id": "2584688e",
      "metadata": {
        "id": "2584688e"
      },
      "source": [
        " Question 5: Explain the process of handling missing values and mention one\n",
        "imputation technique for numerical and one for categorical data.\n"
      ]
    },
    {
      "cell_type": "markdown",
      "id": "c271311a",
      "metadata": {
        "id": "c271311a"
      },
      "source": [
        "Answer:\n",
        "\n",
        "**Steps:**\n",
        "\n",
        "1. Identify missing values.\n",
        "\n",
        "2. Decide whether to remove or impute based on the proportion and nature of data.\n",
        "\n",
        "\n",
        "**Imputation techniques:**\n",
        "\n",
        "- **Numerical data:** Impute using mean or median.\n",
        "\n",
        "- **Categorical data:** Impute using mode or create a new category like 'Unknown'."
      ]
    },
    {
      "cell_type": "markdown",
      "id": "2f9693f3",
      "metadata": {
        "id": "2f9693f3"
      },
      "source": [
        " Question 6: Write a Python program that:\n",
        "\n",
        "● Creates a synthetic imbalanced dataset with make_classification() from\n",
        "sklearn.datasets.\n",
        "\n",
        "● Prints the class distribution.\n",
        "(Include your Python code and output in the code box below.)"
      ]
    },
    {
      "cell_type": "code",
      "execution_count": 1,
      "id": "fdb3cfa6",
      "metadata": {
        "colab": {
          "base_uri": "https://localhost:8080/"
        },
        "id": "fdb3cfa6",
        "outputId": "741a9d71-feff-4964-9191-98b242a30e2e"
      },
      "outputs": [
        {
          "output_type": "stream",
          "name": "stdout",
          "text": [
            "Class distribution: {np.int64(0): np.int64(895), np.int64(1): np.int64(105)}\n"
          ]
        }
      ],
      "source": [
        "from sklearn.datasets import make_classification\n",
        "import numpy as np\n",
        "\n",
        "# Create synthetic dataset\n",
        "X, y = make_classification(n_samples=1000, n_features=5, n_classes=2,\n",
        "                           weights=[0.9, 0.1], random_state=42)\n",
        "\n",
        "# Print class distribution\n",
        "unique, counts = np.unique(y, return_counts=True)\n",
        "print(\"Class distribution:\", dict(zip(unique, counts)))"
      ]
    },
    {
      "cell_type": "markdown",
      "id": "f8839659",
      "metadata": {
        "id": "f8839659"
      },
      "source": [
        " Question 7: Implement one-hot encoding using pandas for the following list of colors:\n",
        "['Red', 'Green', 'Blue', 'Green', 'Red']. Print the resulting dataframe.\n",
        "(Include your Python code and output in the code box below.)"
      ]
    },
    {
      "cell_type": "code",
      "execution_count": 2,
      "id": "c8c6fc0c",
      "metadata": {
        "colab": {
          "base_uri": "https://localhost:8080/"
        },
        "id": "c8c6fc0c",
        "outputId": "3c9dee9e-65b2-424c-87dc-5c0cdbf802e3"
      },
      "outputs": [
        {
          "output_type": "stream",
          "name": "stdout",
          "text": [
            "   Color_Blue  Color_Green  Color_Red\n",
            "0       False        False       True\n",
            "1       False         True      False\n",
            "2        True        False      False\n",
            "3       False         True      False\n",
            "4       False        False       True\n"
          ]
        }
      ],
      "source": [
        "import pandas as pd\n",
        "\n",
        "# List of colors\n",
        "colors = ['Red', 'Green', 'Blue', 'Green', 'Red']\n",
        "\n",
        "# Create DataFrame\n",
        "df = pd.DataFrame({'Color': colors})\n",
        "\n",
        "# Apply one-hot encoding\n",
        "one_hot = pd.get_dummies(df, columns=['Color'])\n",
        "\n",
        "# Print resulting DataFrame\n",
        "print(one_hot)"
      ]
    },
    {
      "cell_type": "markdown",
      "id": "04f0abd7",
      "metadata": {
        "id": "04f0abd7"
      },
      "source": [
        "Question 8:  Write a Python script to:\n",
        "\n",
        "● Generate 1000 samples from a normal distribution.\n",
        "\n",
        "● Introduce 50 random missing values.\n",
        "\n",
        "● Fill missing values with the column mean.\n",
        "\n",
        "● Plot a histogram before and after imputation.\n",
        "(Include your Python code and output in the code box below.)\n"
      ]
    },
    {
      "cell_type": "code",
      "execution_count": 3,
      "id": "557a9ae0",
      "metadata": {
        "colab": {
          "base_uri": "https://localhost:8080/",
          "height": 452
        },
        "id": "557a9ae0",
        "outputId": "628cb46d-8af3-447f-cb5a-ec918d106b5b"
      },
      "outputs": [
        {
          "output_type": "display_data",
          "data": {
            "text/plain": [
              "<Figure size 640x480 with 2 Axes>"
            ],
            "image/png": "[encoded data removed]"
          },
          "metadata": {}
        }
      ],
      "source": [
        "import numpy as np\n",
        "import matplotlib.pyplot as plt\n",
        "\n",
        "np.random.seed(42)\n",
        "\n",
        "# Generate 1000 samples from normal distribution\n",
        "data = np.random.randn(1000)\n",
        "\n",
        "# Introduce 50 random missing values\n",
        "missing_indices = np.random.choice(1000, 50, replace=False)\n",
        "data[missing_indices] = np.nan\n",
        "\n",
        "# Plot histogram before imputation\n",
        "plt.subplot(1, 2, 1)\n",
        "plt.hist(data[~np.isnan(data)], bins=30)\n",
        "plt.title('Before Imputation')\n",
        "\n",
        "# Fill missing values with column mean\n",
        "mean_val = np.nanmean(data)\n",
        "data[np.isnan(data)] = mean_val\n",
        "\n",
        "# Plot histogram after imputation\n",
        "plt.subplot(1, 2, 2)\n",
        "plt.hist(data, bins=30)\n",
        "plt.title('After Imputation')\n",
        "\n",
        "plt.show()"
      ]
    },
    {
      "cell_type": "markdown",
      "id": "ac2e4feb",
      "metadata": {
        "id": "ac2e4feb"
      },
      "source": [
        " Question 9: Implement Min-Max scaling on the following list of numbers [2, 5, 10, 15,\n",
        "20] using sklearn.preprocessing.MinMaxScaler. Print the scaled array.\n",
        "(Include your Python code and output in the code box below.)\n"
      ]
    },
    {
      "cell_type": "code",
      "execution_count": 4,
      "id": "2ef6d300",
      "metadata": {
        "colab": {
          "base_uri": "https://localhost:8080/"
        },
        "id": "2ef6d300",
        "outputId": "3ee2e987-f000-49e8-f90a-b914414aee73"
      },
      "outputs": [
        {
          "output_type": "stream",
          "name": "stdout",
          "text": [
            "Scaled data: [0.         0.16666667 0.44444444 0.72222222 1.        ]\n"
          ]
        }
      ],
      "source": [
        "from sklearn.preprocessing import MinMaxScaler\n",
        "import numpy as np\n",
        "\n",
        "# Initialize scaler\n",
        "scaler = MinMaxScaler()\n",
        "\n",
        "# Input data\n",
        "data = np.array([[2], [5], [10], [15], [20]])\n",
        "\n",
        "# Apply scaling\n",
        "scaled = scaler.fit_transform(data)\n",
        "\n",
        "# Print scaled array\n",
        "print(\"Scaled data:\", scaled.flatten())"
      ]
    },
    {
      "cell_type": "markdown",
      "id": "82182312",
      "metadata": {
        "id": "82182312"
      },
      "source": [
        " Question 10: You are working as a data scientist for a retail company. You receive a customer\n",
        "transaction dataset that contains:"
      ]
    },
    {
      "cell_type": "markdown",
      "id": "b3ba56be",
      "metadata": {
        "id": "b3ba56be"
      },
      "source": [
        "**Step-by-step data preparation:**\n",
        "\n",
        "1. **Handle Missing Ages:** Impute missing values using median, which is robust to outliers.\n",
        "\n",
        "2. **Handle Outliers:** Use IQR (Interquartile Range) or Z-score to detect outliers and cap or remove extreme values.\n",
        "\n",
        "3. **Address Imbalance:** Apply oversampling (SMOTE) or assign class weights during training to balance fraud vs. non-fraud instances.\n",
        "\n",
        "4. **Encode Categorical Variables:** Use one-hot encoding for payment methods and other categorical features.\n",
        "\n",
        "5. **Feature Scaling:** Normalize or scale numerical variables to improve model convergence and performance."
      ]
    },
    {
      "cell_type": "code",
      "source": [
        "import pandas as pd\n",
        "import numpy as np\n",
        "from sklearn.preprocessing import MinMaxScaler\n",
        "from imblearn.over_sampling import SMOTE\n",
        "\n",
        "# Create a synthetic dataset to simulate the scenario\n",
        "np.random.seed(42)\n",
        "data = {\n",
        "    'Age': np.random.randint(18, 65, 1000),\n",
        "    'Transaction_Amount': np.random.rand(1000) * 1000 + 50,\n",
        "    'Payment_Method': np.random.choice(['Credit Card', 'Debit Card', 'PayPal'], 1000),\n",
        "    'Is_Fraud': np.random.choice([0, 1], 1000, p=[0.95, 0.05]) # Imbalanced target\n",
        "}\n",
        "df = pd.DataFrame(data)\n",
        "\n",
        "# Introduce some missing ages\n",
        "missing_indices = np.random.choice(1000, 50, replace=False)\n",
        "df.loc[missing_indices, 'Age'] = np.nan\n",
        "\n",
        "# Introduce some outliers in transaction amount\n",
        "outlier_indices = np.random.choice(1000, 10, replace=False)\n",
        "df.loc[outlier_indices, 'Transaction_Amount'] = np.random.rand(10) * 5000 + 2000\n",
        "\n",
        "print(\"Original Data Info:\")\n",
        "df.info()\n",
        "print(\"\\nOriginal Class Distribution:\\n\", df['Is_Fraud'].value_counts())\n",
        "\n",
        "# 1. Handle Missing Ages (Imputation with median)\n",
        "median_age = df['Age'].median()\n",
        "df['Age'].fillna(median_age, inplace=True)\n",
        "print(\"\\nAfter imputing missing ages:\")\n",
        "print(df[['Age']].isnull().sum())\n",
        "\n",
        "\n",
        "# 2. Handle Outliers (Using IQR for Transaction_Amount)\n",
        "Q1 = df['Transaction_Amount'].quantile(0.25)\n",
        "Q3 = df['Transaction_Amount'].quantile(0.75)\n",
        "IQR = Q3 - Q1\n",
        "lower_bound = Q1 - 1.5 * IQR\n",
        "upper_bound = Q3 + 1.5 * IQR\n",
        "\n",
        "# Cap outliers\n",
        "df['Transaction_Amount'] = np.where(df['Transaction_Amount'] > upper_bound, upper_bound, df['Transaction_Amount'])\n",
        "df['Transaction_Amount'] = np.where(df['Transaction_Amount'] < lower_bound, lower_bound, df['Transaction_Amount'])\n",
        "print(\"\\nAfter handling outliers in Transaction_Amount:\")\n",
        "print(df[['Transaction_Amount']].describe())\n",
        "\n",
        "\n",
        "# 3. Address Imbalance (SMOTE)\n",
        "X = df.drop('Is_Fraud', axis=1)\n",
        "y = df['Is_Fraud']\n",
        "\n",
        "# We need to encode categorical features before applying SMOTE\n",
        "X = pd.get_dummies(X, columns=['Payment_Method'])\n",
        "\n",
        "smote = SMOTE(random_state=42)\n",
        "X_resampled, y_resampled = smote.fit_resample(X, y)\n",
        "\n",
        "print(\"\\nAfter applying SMOTE:\")\n",
        "print(pd.Series(y_resampled).value_counts())\n",
        "\n",
        "# 4. Encode Categorical Variables (already done in step 3 for SMOTE)\n",
        "# If there were other categorical variables, we would encode them here.\n",
        "\n",
        "# 5. Feature Scaling (Min-Max Scaling on numerical features)\n",
        "numerical_features = ['Age', 'Transaction_Amount']\n",
        "scaler = MinMaxScaler()\n",
        "X_resampled[numerical_features] = scaler.fit_transform(X_resampled[numerical_features])\n",
        "\n",
        "print(\"\\nAfter Feature Scaling:\")\n",
        "print(X_resampled[numerical_features].head())"
      ],
      "metadata": {
        "colab": {
          "base_uri": "https://localhost:8080/"
        },
        "id": "3ikWnl9U7wIS",
        "outputId": "779a135d-1423-4118-d64d-f0364af11f55"
      },
      "id": "3ikWnl9U7wIS",
      "execution_count": 5,
      "outputs": [
        {
          "output_type": "stream",
          "name": "stdout",
          "text": [
            "Original Data Info:\n",
            "<class 'pandas.core.frame.DataFrame'>\n",
            "RangeIndex: 1000 entries, 0 to 999\n",
            "Data columns (total 4 columns):\n",
            " #   Column              Non-Null Count  Dtype  \n",
            "---  ------              --------------  -----  \n",
            " 0   Age                 950 non-null    float64\n",
            " 1   Transaction_Amount  1000 non-null   float64\n",
            " 2   Payment_Method      1000 non-null   object \n",
            " 3   Is_Fraud            1000 non-null   int64  \n",
            "dtypes: float64(2), int64(1), object(1)\n",
            "memory usage: 31.4+ KB\n",
            "\n",
            "Original Class Distribution:\n",
            " Is_Fraud\n",
            "0    944\n",
            "1     56\n",
            "Name: count, dtype: int64\n",
            "\n",
            "After imputing missing ages:\n",
            "Age    0\n",
            "dtype: int64\n",
            "\n",
            "After handling outliers in Transaction_Amount:\n",
            "       Transaction_Amount\n",
            "count         1000.000000\n",
            "mean           564.487997\n",
            "std            307.672313\n",
            "min             54.632023\n",
            "25%            291.228048\n",
            "50%            569.070788\n",
            "75%            812.745463\n",
            "max           1595.021585\n",
            "\n",
            "After applying SMOTE:\n",
            "Is_Fraud\n",
            "0    944\n",
            "1    944\n",
            "Name: count, dtype: int64\n",
            "\n",
            "After Feature Scaling:\n",
            "        Age  Transaction_Amount\n",
            "0  0.826087            0.206261\n",
            "1  0.608696            0.522752\n",
            "2  0.304348            0.162302\n",
            "3  0.913043            0.439415\n",
            "4  0.152174            1.000000\n"
          ]
        },
        {
          "output_type": "stream",
          "name": "stderr",
          "text": [
            "/tmp/ipython-input-568561328.py:30: FutureWarning: A value is trying to be set on a copy of a DataFrame or Series through chained assignment using an inplace method.\n",
            "The behavior will change in pandas 3.0. This inplace method will never work because the intermediate object on which we are setting values always behaves as a copy.\n",
            "\n",
            "For example, when doing 'df[col].method(value, inplace=True)', try using 'df.method({col: value}, inplace=True)' or df[col] = df[col].method(value) instead, to perform the operation inplace on the original object.\n",
            "\n",
            "\n",
            "  df['Age'].fillna(median_age, inplace=True)\n"
          ]
        }
      ]
    }
  ],
  "metadata": {
    "colab": {
      "provenance": []
    },
    "language_info": {
      "name": "python"
    },
    "kernelspec": {
      "name": "python3",
      "display_name": "Python 3"
    }
  },
  "nbformat": 4,
  "nbformat_minor": 5
}